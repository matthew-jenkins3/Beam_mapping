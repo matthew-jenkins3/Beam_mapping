{
 "cells": [
  {
   "metadata": {
    "ExecuteTime": {
     "end_time": "2025-03-13T20:24:38.327695Z",
     "start_time": "2025-03-13T20:24:38.291313Z"
    }
   },
   "cell_type": "code",
   "source": [
    "import numpy as np\n",
    "import re\n",
    "from datetime import datetime\n",
    "\n",
    "now = datetime.now()\n",
    "name = '20v_FP133-v1'\n",
    "\n",
    "# Read the file\n",
    "with open(\"lost_data_revover.txt\", \"r\") as file:\n",
    "    lines = file.readlines()\n",
    "\n",
    "# Lists to store extracted data\n",
    "data_max = np.zeros((5, 200, 5))\n",
    "data_min = np.zeros((5, 200, 5))\n",
    "data_rms = np.zeros((5, 200, 5))\n",
    "\n",
    "# Regular expression to extract relevant values\n",
    "pattern = re.compile(r\"location: \\((\\d+),(\\d+)\\) measurement number:(\\d+) \\| max \\[V\\]: ([\\d.-]+) \\| min \\[V\\]: ([\\d.-]+) \\| RMS \\[v\\]: ([\\d.-]+)\")\n",
    "\n",
    "for line in lines:\n",
    "    match = pattern.search(line)\n",
    "    if match:\n",
    "        x, y, num, max_v, min_v, rms_v = match.groups()\n",
    "        x, y, num = int(x), int(y), int(num)\n",
    "        data_max[x, y, num] = float(max_v)\n",
    "        data_min[x, y, num] = float(min_v)\n",
    "        data_rms[x, y, num] = float(rms_v)\n",
    "\n",
    "#save the data: \n",
    "np.save(f'data_max_{name}.npy', data_max)\n",
    "np.save(f'data_min_{name}.npy', data_min)\n",
    "np.save(f'data_rms_{name}.npy', data_rms)"
   ],
   "id": "c2c2a27a7bd9d64",
   "outputs": [],
   "execution_count": 21
  },
  {
   "metadata": {},
   "cell_type": "code",
   "outputs": [],
   "execution_count": null,
   "source": "",
   "id": "9ad694b9bf79332e"
  }
 ],
 "metadata": {
  "kernelspec": {
   "display_name": "Python 3",
   "language": "python",
   "name": "python3"
  },
  "language_info": {
   "codemirror_mode": {
    "name": "ipython",
    "version": 2
   },
   "file_extension": ".py",
   "mimetype": "text/x-python",
   "name": "python",
   "nbconvert_exporter": "python",
   "pygments_lexer": "ipython2",
   "version": "2.7.6"
  }
 },
 "nbformat": 4,
 "nbformat_minor": 5
}
